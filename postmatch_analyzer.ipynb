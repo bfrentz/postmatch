{
 "cells": [
  {
   "cell_type": "markdown",
   "metadata": {},
   "source": [
    "# Postmatch Analyzer\n",
    "\n",
    "### Using understat data to better understand soccer games with data, visualizations, and analysis\n",
    "\n",
    "Bryce Frentz  \n",
    "December 2020\n",
    "\n",
    "Goal is to use these as a way to think about post match analysis and work into a larger framework maybe"
   ]
  },
  {
   "cell_type": "code",
   "execution_count": 1,
   "metadata": {},
   "outputs": [],
   "source": [
    "from selenium import webdriver\n",
    "import pandas as pd\n",
    "import matplotlib\n",
    "import matplotlib.pyplot as plt\n",
    "import seaborn as sns\n",
    "import probability_wdl as wdl\n",
    "import numpy as np\n",
    "from mplsoccer.pitch import Pitch\n",
    "import soccer_scraper as ss"
   ]
  },
  {
   "cell_type": "code",
   "execution_count": 2,
   "metadata": {},
   "outputs": [],
   "source": [
    "%matplotlib inline"
   ]
  },
  {
   "cell_type": "code",
   "execution_count": 3,
   "metadata": {},
   "outputs": [],
   "source": [
    "%matplotlib widget"
   ]
  },
  {
   "cell_type": "code",
   "execution_count": 4,
   "metadata": {},
   "outputs": [
    {
     "name": "stdin",
     "output_type": "stream",
     "text": [
      "Please enter the Understat Match ID:  14651\n"
     ]
    }
   ],
   "source": [
    "## Get match id\n",
    "match = ''\n",
    "match = input(\"Please enter the Understat Match ID: \")"
   ]
  },
  {
   "cell_type": "code",
   "execution_count": 5,
   "metadata": {},
   "outputs": [],
   "source": [
    "## Match id (CHANGE HERE)\n",
    "if match == '':\n",
    "    match = '14570'    # Manchester United vs Leeds 6-2\n",
    "# match = '14596'    # Manchester United vs Aston Villa 2-1\n",
    "# match = '14620'    # Liverpool vs Manchester United 0-0\n",
    "# match = '14607'    # Fulham vs Manchester United 1-2"
   ]
  },
  {
   "cell_type": "code",
   "execution_count": 6,
   "metadata": {},
   "outputs": [],
   "source": [
    "## scrape from given webpage\n",
    "link = \"https://understat.com/match/\" + match\n",
    "content = ss.scrape_understat(link)"
   ]
  },
  {
   "cell_type": "code",
   "execution_count": 7,
   "metadata": {
    "scrolled": true
   },
   "outputs": [
    {
     "data": {
      "text/plain": [
       "dict_keys(['a', 'h'])"
      ]
     },
     "execution_count": 7,
     "metadata": {},
     "output_type": "execute_result"
    }
   ],
   "source": [
    "## a stands for Away, h stands for Home\n",
    "## Check on if data was imported\n",
    "content.keys()"
   ]
  },
  {
   "cell_type": "code",
   "execution_count": 8,
   "metadata": {},
   "outputs": [],
   "source": [
    "## make dataframes for both home and away shots\n",
    "away_df = pd.DataFrame(content[\"a\"])\n",
    "home_df = pd.DataFrame(content[\"h\"])\n",
    "\n",
    "players_away = away_df['player'].unique()\n",
    "players_home = home_df['player'].unique()\n"
   ]
  },
  {
   "cell_type": "code",
   "execution_count": 9,
   "metadata": {},
   "outputs": [],
   "source": [
    "## Recast datatypes for shot data\n",
    "\n",
    "# Home\n",
    "home_df['date'] = pd.to_datetime(home_df['date'])\n",
    "home_df['X']               = home_df['X'].astype(float)\n",
    "home_df['Y']               = home_df['Y'].astype(float)\n",
    "home_df['a_goals']         = home_df['a_goals'].astype(int)\n",
    "home_df['a_team']          = home_df['a_team'].astype(str)\n",
    "home_df['h_a']             = home_df['h_a'].astype(str)\n",
    "home_df['h_goals']         = home_df['h_goals'].astype(int)\n",
    "home_df['h_team']          = home_df['h_team'].astype(str)\n",
    "home_df['id']              = home_df['id'].astype(int)\n",
    "home_df['lastAction']      = home_df['lastAction'].astype(str)\n",
    "home_df['match_id']        = home_df['match_id'].astype(int)\n",
    "home_df['minute']          = home_df['minute'].astype(int)\n",
    "home_df['player']          = home_df['player'].astype(str)\n",
    "home_df['player_assisted'] = home_df['player_assisted'].astype(str)\n",
    "home_df['player_id']       = home_df['player_id'].astype(int)\n",
    "home_df['result']          = home_df['result'].astype(str)\n",
    "home_df['season']          = home_df['season'].astype(int)\n",
    "home_df['shotType']        = home_df['shotType'].astype(str)\n",
    "home_df['situation']       = home_df['situation'].astype(str)\n",
    "home_df['xG']              = home_df['xG'].astype(float)\n",
    "home_df['cumulative_xg']   = home_df['xG'].cumsum()\n",
    "\n",
    "# Away\n",
    "away_df['date'] = pd.to_datetime(away_df['date'])\n",
    "away_df['X']               = away_df['X'].astype(float)\n",
    "away_df['Y']               = away_df['Y'].astype(float)\n",
    "away_df['a_goals']         = away_df['a_goals'].astype(int)\n",
    "away_df['a_team']          = away_df['a_team'].astype(str)\n",
    "away_df['h_a']             = away_df['h_a'].astype(str)\n",
    "away_df['h_goals']         = away_df['h_goals'].astype(int)\n",
    "away_df['h_team']          = away_df['h_team'].astype(str)\n",
    "away_df['id']              = away_df['id'].astype(int)\n",
    "away_df['lastAction']      = away_df['lastAction'].astype(str)\n",
    "away_df['match_id']        = away_df['match_id'].astype(int)\n",
    "away_df['minute']          = away_df['minute'].astype(int)\n",
    "away_df['player']          = away_df['player'].astype(str)\n",
    "away_df['player_assisted'] = away_df['player_assisted'].astype(str)\n",
    "away_df['player_id']       = away_df['player_id'].astype(int)\n",
    "away_df['result']          = away_df['result'].astype(str)\n",
    "away_df['season']          = away_df['season'].astype(int)\n",
    "away_df['shotType']        = away_df['shotType'].astype(str)\n",
    "away_df['situation']       = away_df['situation'].astype(str)\n",
    "away_df['xG']              = away_df['xG'].astype(float)\n",
    "away_df['cumulative_xg']         = away_df['xG'].cumsum()"
   ]
  },
  {
   "cell_type": "code",
   "execution_count": 10,
   "metadata": {},
   "outputs": [],
   "source": [
    "## combine both the dataframes order by minutes\n",
    "main_df = pd.concat([home_df, away_df], axis=0).sort_values(by=\"minute\", ascending=True).reset_index(drop=True)"
   ]
  },
  {
   "cell_type": "code",
   "execution_count": 11,
   "metadata": {},
   "outputs": [],
   "source": [
    "## Recast types for follow-up analysis\n",
    "\n",
    "main_df['date'] = pd.to_datetime(main_df['date'])\n",
    "\n",
    "main_df['X']               = main_df['X'].astype(float)\n",
    "main_df['Y']               = main_df['Y'].astype(float)\n",
    "main_df['a_goals']         = main_df['a_goals'].astype(int)\n",
    "main_df['a_team']          = main_df['a_team'].astype(str)\n",
    "main_df['h_a']             = main_df['h_a'].astype(str)\n",
    "main_df['h_goals']         = main_df['h_goals'].astype(int)\n",
    "main_df['h_team']          = main_df['h_team'].astype(str)\n",
    "main_df['id']              = main_df['id'].astype(int)\n",
    "main_df['lastAction']      = main_df['lastAction'].astype(str)\n",
    "main_df['match_id']        = main_df['match_id'].astype(int)\n",
    "main_df['minute']          = main_df['minute'].astype(int)\n",
    "main_df['player']          = main_df['player'].astype(str)\n",
    "main_df['player_assisted'] = main_df['player_assisted'].astype(str)\n",
    "main_df['player_id']       = main_df['player_id'].astype(int)\n",
    "main_df['result']          = main_df['result'].astype(str)\n",
    "main_df['season']          = main_df['season'].astype(int)\n",
    "main_df['shotType']        = main_df['shotType'].astype(str)\n",
    "main_df['situation']       = main_df['situation'].astype(str)\n",
    "main_df['xG']              = main_df['xG'].astype(float)"
   ]
  },
  {
   "cell_type": "code",
   "execution_count": null,
   "metadata": {},
   "outputs": [],
   "source": []
  },
  {
   "cell_type": "code",
   "execution_count": 12,
   "metadata": {},
   "outputs": [],
   "source": [
    "## Set team names\n",
    "home_name = home_df['h_team'][0]\n",
    "away_name = home_df['a_team'][0]\n",
    "\n",
    "## Set team goals\n",
    "home_score = home_df['h_goals'][0]\n",
    "away_score = home_df['a_goals'][0]\n",
    "\n",
    "## Players\n",
    "players_away = away_df['player'].unique()\n",
    "players_home = home_df['player'].unique()\n"
   ]
  },
  {
   "cell_type": "code",
   "execution_count": null,
   "metadata": {},
   "outputs": [],
   "source": []
  },
  {
   "cell_type": "markdown",
   "metadata": {},
   "source": [
    "## Shot maps for the teams"
   ]
  },
  {
   "cell_type": "code",
   "execution_count": 16,
   "metadata": {},
   "outputs": [
    {
     "name": "stderr",
     "output_type": "stream",
     "text": [
      "/usr/local/lib/python3.7/site-packages/ipykernel_launcher.py:3: SettingWithCopyWarning: \n",
      "A value is trying to be set on a copy of a slice from a DataFrame.\n",
      "Try using .loc[row_indexer,col_indexer] = value instead\n",
      "\n",
      "See the caveats in the documentation: https://pandas.pydata.org/pandas-docs/stable/user_guide/indexing.html#returning-a-view-versus-a-copy\n",
      "  This is separate from the ipykernel package so we can avoid doing imports until\n",
      "/usr/local/lib/python3.7/site-packages/ipykernel_launcher.py:4: SettingWithCopyWarning: \n",
      "A value is trying to be set on a copy of a slice from a DataFrame.\n",
      "Try using .loc[row_indexer,col_indexer] = value instead\n",
      "\n",
      "See the caveats in the documentation: https://pandas.pydata.org/pandas-docs/stable/user_guide/indexing.html#returning-a-view-versus-a-copy\n",
      "  after removing the cwd from sys.path.\n",
      "/usr/local/lib/python3.7/site-packages/ipykernel_launcher.py:6: SettingWithCopyWarning: \n",
      "A value is trying to be set on a copy of a slice from a DataFrame.\n",
      "Try using .loc[row_indexer,col_indexer] = value instead\n",
      "\n",
      "See the caveats in the documentation: https://pandas.pydata.org/pandas-docs/stable/user_guide/indexing.html#returning-a-view-versus-a-copy\n",
      "  \n",
      "/usr/local/lib/python3.7/site-packages/ipykernel_launcher.py:7: SettingWithCopyWarning: \n",
      "A value is trying to be set on a copy of a slice from a DataFrame.\n",
      "Try using .loc[row_indexer,col_indexer] = value instead\n",
      "\n",
      "See the caveats in the documentation: https://pandas.pydata.org/pandas-docs/stable/user_guide/indexing.html#returning-a-view-versus-a-copy\n",
      "  import sys\n"
     ]
    }
   ],
   "source": [
    "# Create shot dataframes\n",
    "home_shots = home_df[['id', 'minute', 'X', 'Y', 'player', 'shotType', 'situation', 'result', 'xG']]\n",
    "home_shots['pos_x'] = home_shots['X'].copy()*120\n",
    "home_shots['pos_y'] = home_shots['Y']*80\n",
    "away_shots = away_df[['id', 'minute', 'X', 'Y', 'player', 'shotType', 'situation', 'result', 'xG']]\n",
    "away_shots['pos_x'] = away_shots['X']*120\n",
    "away_shots['pos_y'] = away_shots['Y']*80\n",
    "\n",
    "# Create a mask for the shots that are successful vs not\n",
    "mask_goal_h = home_shots.result == 'Goal'\n",
    "mask_goal_a = away_shots.result == 'Goal'"
   ]
  },
  {
   "cell_type": "code",
   "execution_count": 17,
   "metadata": {},
   "outputs": [
    {
     "data": {
      "application/vnd.jupyter.widget-view+json": {
       "model_id": "e3cc9be8e601485c92a73ce770360bee",
       "version_major": 2,
       "version_minor": 0
      },
      "text/plain": [
       "Canvas(toolbar=Toolbar(toolitems=[('Home', 'Reset original view', 'home', 'home'), ('Back', 'Back to previous …"
      ]
     },
     "metadata": {},
     "output_type": "display_data"
    }
   ],
   "source": [
    "## Home shot map\n",
    "wdl.shotMapTeam(home_shots, mask_goal_h, home_name, away_name, home=True)"
   ]
  },
  {
   "cell_type": "code",
   "execution_count": 18,
   "metadata": {},
   "outputs": [
    {
     "data": {
      "application/vnd.jupyter.widget-view+json": {
       "model_id": "6d7b8acfab00449789ab64dfa96239f9",
       "version_major": 2,
       "version_minor": 0
      },
      "text/plain": [
       "Canvas(toolbar=Toolbar(toolitems=[('Home', 'Reset original view', 'home', 'home'), ('Back', 'Back to previous …"
      ]
     },
     "metadata": {},
     "output_type": "display_data"
    }
   ],
   "source": [
    "## Away shot map\n",
    "wdl.shotMapTeam(away_shots, mask_goal_a, home_name, away_name, home=False)"
   ]
  },
  {
   "cell_type": "code",
   "execution_count": 19,
   "metadata": {},
   "outputs": [
    {
     "data": {
      "application/vnd.jupyter.widget-view+json": {
       "model_id": "8047911a30a54b9ab6355fa787b24b49",
       "version_major": 2,
       "version_minor": 0
      },
      "text/plain": [
       "Canvas(toolbar=Toolbar(toolitems=[('Home', 'Reset original view', 'home', 'home'), ('Back', 'Back to previous …"
      ]
     },
     "metadata": {},
     "output_type": "display_data"
    }
   ],
   "source": [
    "## Combined shot map\n",
    "wdl.shotMapMatch(shots_home=home_shots, shots_away=away_shots, mask_goal_h=mask_goal_h, \n",
    "                 mask_goal_a=mask_goal_a, home_name=home_name, away_name=away_name, \n",
    "                 home_score=home_score, away_score=away_score)"
   ]
  },
  {
   "cell_type": "code",
   "execution_count": null,
   "metadata": {},
   "outputs": [],
   "source": []
  },
  {
   "cell_type": "markdown",
   "metadata": {},
   "source": [
    "## xG Distribution by player"
   ]
  },
  {
   "cell_type": "code",
   "execution_count": 13,
   "metadata": {},
   "outputs": [],
   "source": [
    "## Get xg distributions from dataframes\n",
    "all_shooters = main_df.groupby(['player'])['xG'].sum()\n",
    "home_shooters = home_df.groupby(['player'])['xG'].sum()\n",
    "away_shooters = away_df.groupby(['player'])['xG'].sum()"
   ]
  },
  {
   "cell_type": "code",
   "execution_count": 14,
   "metadata": {},
   "outputs": [
    {
     "data": {
      "application/vnd.jupyter.widget-view+json": {
       "model_id": "b2d8238ac9d54bd08801557963553959",
       "version_major": 2,
       "version_minor": 0
      },
      "text/plain": [
       "Canvas(toolbar=Toolbar(toolitems=[('Home', 'Reset original view', 'home', 'home'), ('Back', 'Back to previous …"
      ]
     },
     "metadata": {},
     "output_type": "display_data"
    }
   ],
   "source": [
    "# home_shooters\n",
    "wdl.playerXG(home_shooters, home_name)"
   ]
  },
  {
   "cell_type": "code",
   "execution_count": 15,
   "metadata": {},
   "outputs": [
    {
     "data": {
      "application/vnd.jupyter.widget-view+json": {
       "model_id": "a6d1768cf9ba43239405f1ced5ceadf0",
       "version_major": 2,
       "version_minor": 0
      },
      "text/plain": [
       "Canvas(toolbar=Toolbar(toolitems=[('Home', 'Reset original view', 'home', 'home'), ('Back', 'Back to previous …"
      ]
     },
     "metadata": {},
     "output_type": "display_data"
    }
   ],
   "source": [
    "# away shooters\n",
    "wdl.playerXG(away_shooters, away_name)"
   ]
  },
  {
   "cell_type": "code",
   "execution_count": null,
   "metadata": {},
   "outputs": [],
   "source": []
  },
  {
   "cell_type": "markdown",
   "metadata": {},
   "source": [
    "## Team xG Plots for the Match"
   ]
  },
  {
   "cell_type": "code",
   "execution_count": 20,
   "metadata": {},
   "outputs": [
    {
     "data": {
      "application/vnd.jupyter.widget-view+json": {
       "model_id": "a814c1ca9f2b4708aea4ebe57a158be2",
       "version_major": 2,
       "version_minor": 0
      },
      "text/plain": [
       "Canvas(toolbar=Toolbar(toolitems=[('Home', 'Reset original view', 'home', 'home'), ('Back', 'Back to previous …"
      ]
     },
     "metadata": {},
     "output_type": "display_data"
    }
   ],
   "source": [
    "## Cumulative xG plot for the teams\n",
    "wdl.gameFlow(home_df, away_df)"
   ]
  },
  {
   "cell_type": "code",
   "execution_count": 21,
   "metadata": {},
   "outputs": [],
   "source": [
    "## Make one with seaborn\n",
    "# fig, ax = plt.subplots(figsize=(7,4))\n",
    "\n",
    "# ax = sns.lineplot(h_x, h_y, drawstyle='steps-post')"
   ]
  },
  {
   "cell_type": "markdown",
   "metadata": {},
   "source": [
    "## Match Result Simulations"
   ]
  },
  {
   "cell_type": "code",
   "execution_count": 22,
   "metadata": {},
   "outputs": [],
   "source": [
    "h_xg = home_df['xG']\n",
    "a_xg = away_df['xG']"
   ]
  },
  {
   "cell_type": "code",
   "execution_count": 23,
   "metadata": {},
   "outputs": [],
   "source": [
    "grid = wdl.simGrid(h_xg, a_xg)"
   ]
  },
  {
   "cell_type": "code",
   "execution_count": 24,
   "metadata": {},
   "outputs": [
    {
     "name": "stdout",
     "output_type": "stream",
     "text": [
      "Over 100000 simulated games:\n",
      "\n",
      "Home wins: 99.29%\n",
      "Away wins: 0.09%\n",
      "Draw:      0.62%\n",
      "\n"
     ]
    }
   ],
   "source": [
    "wdl.gameProbabilities(grid)"
   ]
  },
  {
   "cell_type": "code",
   "execution_count": 25,
   "metadata": {},
   "outputs": [
    {
     "data": {
      "application/vnd.jupyter.widget-view+json": {
       "model_id": "de3cd75585c64b6cbfae4dd22ef68a4e",
       "version_major": 2,
       "version_minor": 0
      },
      "text/plain": [
       "Canvas(toolbar=Toolbar(toolitems=[('Home', 'Reset original view', 'home', 'home'), ('Back', 'Back to previous …"
      ]
     },
     "metadata": {},
     "output_type": "display_data"
    }
   ],
   "source": [
    "## Simulated Probability Distribution\n",
    "wdl.goalDistribution(grid, home_name, away_name)"
   ]
  },
  {
   "cell_type": "code",
   "execution_count": 26,
   "metadata": {},
   "outputs": [
    {
     "data": {
      "application/vnd.jupyter.widget-view+json": {
       "model_id": "b11f343886a5474183fbcb6640e65348",
       "version_major": 2,
       "version_minor": 0
      },
      "text/plain": [
       "Canvas(toolbar=Toolbar(toolitems=[('Home', 'Reset original view', 'home', 'home'), ('Back', 'Back to previous …"
      ]
     },
     "metadata": {},
     "output_type": "display_data"
    }
   ],
   "source": [
    "wdl.drawGrid(grid=grid, home_team_name=home_name, away_team_name=away_name)"
   ]
  },
  {
   "cell_type": "code",
   "execution_count": 27,
   "metadata": {},
   "outputs": [
    {
     "name": "stdout",
     "output_type": "stream",
     "text": [
      "\n",
      "Most likely outcome:\n",
      "Manchester United    5+ -  0    Southampton\n",
      "\n",
      "This was the most likely outcome!\n"
     ]
    }
   ],
   "source": [
    "wdl.mostLikelyGameOutcome(grid=grid, home_score=home_score, away_score=away_score, \n",
    "                          home_team_name=home_name, away_team_name=away_name)"
   ]
  },
  {
   "cell_type": "code",
   "execution_count": null,
   "metadata": {},
   "outputs": [],
   "source": []
  },
  {
   "cell_type": "code",
   "execution_count": null,
   "metadata": {},
   "outputs": [],
   "source": []
  },
  {
   "cell_type": "code",
   "execution_count": null,
   "metadata": {},
   "outputs": [],
   "source": []
  },
  {
   "cell_type": "code",
   "execution_count": null,
   "metadata": {},
   "outputs": [],
   "source": []
  },
  {
   "cell_type": "markdown",
   "metadata": {},
   "source": [
    "## Non-penalty xG Calculations\n",
    "\n",
    "Do the same analysis with non-penalty xG"
   ]
  },
  {
   "cell_type": "code",
   "execution_count": 28,
   "metadata": {},
   "outputs": [
    {
     "name": "stderr",
     "output_type": "stream",
     "text": [
      "/usr/local/lib/python3.7/site-packages/pandas/core/indexing.py:671: SettingWithCopyWarning: \n",
      "A value is trying to be set on a copy of a slice from a DataFrame\n",
      "\n",
      "See the caveats in the documentation: https://pandas.pydata.org/pandas-docs/stable/user_guide/indexing.html#returning-a-view-versus-a-copy\n",
      "  self._setitem_with_indexer(indexer, value)\n"
     ]
    }
   ],
   "source": [
    "# Non-penalty xG\n",
    "home_df['npxg'] = home_df['xG'].copy()\n",
    "home_df['npxg'].loc[(home_df['situation'] == 'Penalty')] = 0\n",
    "home_df['npxg_cumulative'] = home_df['npxg'].cumsum()\n",
    "away_df['npxg'] = away_df['xG'].copy()\n",
    "away_df['npxg'].loc[(away_df['situation'] == 'Penalty')] = 0\n",
    "away_df['npxg_cumulative'] = away_df['npxg'].cumsum()"
   ]
  },
  {
   "cell_type": "code",
   "execution_count": 29,
   "metadata": {},
   "outputs": [],
   "source": [
    "## Get xg distributions from dataframes\n",
    "home_shooters = home_df.groupby(['player'])['npxg'].sum()\n",
    "away_shooters = away_df.groupby(['player'])['npxg'].sum()"
   ]
  },
  {
   "cell_type": "code",
   "execution_count": 30,
   "metadata": {},
   "outputs": [
    {
     "data": {
      "application/vnd.jupyter.widget-view+json": {
       "model_id": "d013936e81ad40ed8b43f0fdea3b96b0",
       "version_major": 2,
       "version_minor": 0
      },
      "text/plain": [
       "Canvas(toolbar=Toolbar(toolitems=[('Home', 'Reset original view', 'home', 'home'), ('Back', 'Back to previous …"
      ]
     },
     "metadata": {},
     "output_type": "display_data"
    }
   ],
   "source": [
    "# home_shooters\n",
    "wdl.playerXG(home_shooters, home_name, nonpen=True)"
   ]
  },
  {
   "cell_type": "code",
   "execution_count": 31,
   "metadata": {},
   "outputs": [
    {
     "data": {
      "application/vnd.jupyter.widget-view+json": {
       "model_id": "a91008a9122848f38da6e8efb1c9283e",
       "version_major": 2,
       "version_minor": 0
      },
      "text/plain": [
       "Canvas(toolbar=Toolbar(toolitems=[('Home', 'Reset original view', 'home', 'home'), ('Back', 'Back to previous …"
      ]
     },
     "metadata": {},
     "output_type": "display_data"
    }
   ],
   "source": [
    "# away_shooters\n",
    "wdl.playerXG(away_shooters, away_name, nonpen=True)"
   ]
  },
  {
   "cell_type": "code",
   "execution_count": 32,
   "metadata": {},
   "outputs": [
    {
     "data": {
      "application/vnd.jupyter.widget-view+json": {
       "model_id": "a1c44557850b47198f6d4c0044d6cb21",
       "version_major": 2,
       "version_minor": 0
      },
      "text/plain": [
       "Canvas(toolbar=Toolbar(toolitems=[('Home', 'Reset original view', 'home', 'home'), ('Back', 'Back to previous …"
      ]
     },
     "metadata": {},
     "output_type": "display_data"
    }
   ],
   "source": [
    "## Cumulative xG plot for the teams\n",
    "wdl.gameFlow(home_df, away_df, nonpen=True)"
   ]
  },
  {
   "cell_type": "code",
   "execution_count": 34,
   "metadata": {},
   "outputs": [],
   "source": [
    "grid_npxg = wdl.simGrid(home_df['npxg'], away_df['npxg'])"
   ]
  },
  {
   "cell_type": "code",
   "execution_count": 35,
   "metadata": {},
   "outputs": [
    {
     "name": "stdout",
     "output_type": "stream",
     "text": [
      "Over 100000 simulated games:\n",
      "\n",
      "Home wins: 97.95%\n",
      "Away wins: 0.30%\n",
      "Draw:      1.75%\n",
      "\n"
     ]
    }
   ],
   "source": [
    "wdl.gameProbabilities(grid_npxg)"
   ]
  },
  {
   "cell_type": "code",
   "execution_count": 36,
   "metadata": {},
   "outputs": [
    {
     "data": {
      "application/vnd.jupyter.widget-view+json": {
       "model_id": "370e6e61884841d3a1d0fd76c75b9995",
       "version_major": 2,
       "version_minor": 0
      },
      "text/plain": [
       "Canvas(toolbar=Toolbar(toolitems=[('Home', 'Reset original view', 'home', 'home'), ('Back', 'Back to previous …"
      ]
     },
     "metadata": {},
     "output_type": "display_data"
    }
   ],
   "source": [
    "## Simulated Probability Distribution\n",
    "wdl.goalDistribution(grid_npxg, home_name, away_name, nonpen=True)"
   ]
  },
  {
   "cell_type": "code",
   "execution_count": 37,
   "metadata": {},
   "outputs": [
    {
     "data": {
      "application/vnd.jupyter.widget-view+json": {
       "model_id": "bbfec1f6b3e74bca883df6d7be0fb74b",
       "version_major": 2,
       "version_minor": 0
      },
      "text/plain": [
       "Canvas(toolbar=Toolbar(toolitems=[('Home', 'Reset original view', 'home', 'home'), ('Back', 'Back to previous …"
      ]
     },
     "metadata": {},
     "output_type": "display_data"
    }
   ],
   "source": [
    "wdl.drawGrid(grid=grid_npxg, home_team_name=home_name, away_team_name=away_name, nonpen=True)"
   ]
  },
  {
   "cell_type": "code",
   "execution_count": 41,
   "metadata": {},
   "outputs": [
    {
     "name": "stdout",
     "output_type": "stream",
     "text": [
      "\n",
      "Most likely outcome:\n",
      "Manchester United    5+ -  0    Southampton\n",
      "\n",
      "This was the most likely outcome!\n"
     ]
    }
   ],
   "source": [
    "wdl.mostLikelyGameOutcome(grid=grid_npxg, home_score=home_score, away_score=away_score, \n",
    "                          home_team_name=home_name, away_team_name=away_name)"
   ]
  },
  {
   "cell_type": "code",
   "execution_count": null,
   "metadata": {},
   "outputs": [],
   "source": []
  },
  {
   "cell_type": "code",
   "execution_count": null,
   "metadata": {},
   "outputs": [],
   "source": []
  }
 ],
 "metadata": {
  "kernelspec": {
   "display_name": "Python 3",
   "language": "python",
   "name": "python3"
  },
  "language_info": {
   "codemirror_mode": {
    "name": "ipython",
    "version": 3
   },
   "file_extension": ".py",
   "mimetype": "text/x-python",
   "name": "python",
   "nbconvert_exporter": "python",
   "pygments_lexer": "ipython3",
   "version": "3.7.6"
  }
 },
 "nbformat": 4,
 "nbformat_minor": 4
}
